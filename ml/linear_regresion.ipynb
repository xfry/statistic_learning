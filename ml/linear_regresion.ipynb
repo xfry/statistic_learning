{
 "cells": [
  {
   "cell_type": "markdown",
   "metadata": {},
   "source": [
    "# Explorando la Regresión Lineal, sus tipos y Pronosticos\n",
    "\n",
    "Este documento será actualizado periodicamente con experimentos en los siguientes temas:\n",
    "\n",
    "* Algunas pruebas con la Media, Mediana, Desviación Média Absoluta(MAD)\n",
    "* Regresión Lineal Simple\n",
    "* Regresión Lineal Multiple\n",
    "* Pronostico mediante Regresión\n",
    "* Regresión Polinomial\n",
    "El Dataset utilizado para la regreción lineal lo puedes encontrar en: https://www.kaggle.com/mirichoi0218/insurance/metadata "
   ]
  },
  {
   "cell_type": "markdown",
   "metadata": {},
   "source": [
    "### Pruebas de Estadisticos"
   ]
  },
  {
   "cell_type": "code",
   "execution_count": 42,
   "metadata": {},
   "outputs": [
    {
     "name": "stdout",
     "output_type": "stream",
     "text": [
      "Media -> 14.285714285714286\n",
      "Mediana -> 12.0\n",
      "MAD -> 8.8956\n",
      "Upper threshold -> 29.7912\n",
      "Lower threshold -> -5.7912\n"
     ]
    }
   ],
   "source": [
    "import numpy as np\n",
    "# Creamos un array con el que trabajaremos la Desviación (Media o Mediana) Absoluta\n",
    "# La MAD, tiende a ser menos sencible a los valores atipicos (outliers) se usa para estimar la media o mediana\n",
    "# Se usa para la estimación de desviación estandar\n",
    "data_test1  = np.array([2, 6, 6, 12, 17, 25 ,32], dtype=np.int8)\n",
    "_median     = np.median(data_test1)\n",
    "abs_median = np.copy(data_test1)\n",
    "_MAD        = 0\n",
    "k           = 1.4826 # es una constnte de ajust que se usa para escalar la desviación estandar\n",
    "\n",
    "# sustraemos la mediana para cada valor del arreglo y tomamos el valor absoluto\n",
    "for idx in range(len(data_test1)):\n",
    "    abs_median[idx] = abs(abs_median[idx] - _median)\n",
    "\n",
    "# recalculamos la mediana\n",
    "MAD = np.median(abs_median)*k\n",
    "# finalmente creamos un umbral para la desviación mediana absoluta\n",
    "up_outlier   = _median + (2 * MAD)\n",
    "low_outlier   = _median - (2 * MAD)\n",
    "\n",
    "print(f\"Mediana -> {_median}\")\n",
    "print(f\"MAD -> {MAD}\")\n",
    "print(f\"Upper threshold -> {up_outlier}\")\n",
    "print(f\"Lower threshold -> {low_outlier}\")\n"
   ]
  },
  {
   "cell_type": "markdown",
   "metadata": {},
   "source": [
    "### Regresión Lineal Simple\n",
    "La finalidad de este ejercicio es predecir el costo de atención médica de un paciente según parámetros como:\n",
    "* edad\n",
    "* género\n",
    "* hábito de fumar\n",
    "* lugar de residencia"
   ]
  },
  {
   "cell_type": "code",
   "execution_count": 7,
   "metadata": {},
   "outputs": [
    {
     "data": {
      "text/html": [
       "<div>\n",
       "<style scoped>\n",
       "    .dataframe tbody tr th:only-of-type {\n",
       "        vertical-align: middle;\n",
       "    }\n",
       "\n",
       "    .dataframe tbody tr th {\n",
       "        vertical-align: top;\n",
       "    }\n",
       "\n",
       "    .dataframe thead th {\n",
       "        text-align: right;\n",
       "    }\n",
       "</style>\n",
       "<table border=\"1\" class=\"dataframe\">\n",
       "  <thead>\n",
       "    <tr style=\"text-align: right;\">\n",
       "      <th></th>\n",
       "      <th>age</th>\n",
       "      <th>sex</th>\n",
       "      <th>bmi</th>\n",
       "      <th>children</th>\n",
       "      <th>smoker</th>\n",
       "      <th>region</th>\n",
       "      <th>charges</th>\n",
       "    </tr>\n",
       "  </thead>\n",
       "  <tbody>\n",
       "    <tr>\n",
       "      <th>0</th>\n",
       "      <td>19</td>\n",
       "      <td>female</td>\n",
       "      <td>27.900</td>\n",
       "      <td>0</td>\n",
       "      <td>yes</td>\n",
       "      <td>southwest</td>\n",
       "      <td>16884.92400</td>\n",
       "    </tr>\n",
       "    <tr>\n",
       "      <th>1</th>\n",
       "      <td>18</td>\n",
       "      <td>male</td>\n",
       "      <td>33.770</td>\n",
       "      <td>1</td>\n",
       "      <td>no</td>\n",
       "      <td>southeast</td>\n",
       "      <td>1725.55230</td>\n",
       "    </tr>\n",
       "    <tr>\n",
       "      <th>2</th>\n",
       "      <td>28</td>\n",
       "      <td>male</td>\n",
       "      <td>33.000</td>\n",
       "      <td>3</td>\n",
       "      <td>no</td>\n",
       "      <td>southeast</td>\n",
       "      <td>4449.46200</td>\n",
       "    </tr>\n",
       "    <tr>\n",
       "      <th>3</th>\n",
       "      <td>33</td>\n",
       "      <td>male</td>\n",
       "      <td>22.705</td>\n",
       "      <td>0</td>\n",
       "      <td>no</td>\n",
       "      <td>northwest</td>\n",
       "      <td>21984.47061</td>\n",
       "    </tr>\n",
       "    <tr>\n",
       "      <th>4</th>\n",
       "      <td>32</td>\n",
       "      <td>male</td>\n",
       "      <td>28.880</td>\n",
       "      <td>0</td>\n",
       "      <td>no</td>\n",
       "      <td>northwest</td>\n",
       "      <td>3866.85520</td>\n",
       "    </tr>\n",
       "    <tr>\n",
       "      <th>...</th>\n",
       "      <td>...</td>\n",
       "      <td>...</td>\n",
       "      <td>...</td>\n",
       "      <td>...</td>\n",
       "      <td>...</td>\n",
       "      <td>...</td>\n",
       "      <td>...</td>\n",
       "    </tr>\n",
       "    <tr>\n",
       "      <th>1333</th>\n",
       "      <td>50</td>\n",
       "      <td>male</td>\n",
       "      <td>30.970</td>\n",
       "      <td>3</td>\n",
       "      <td>no</td>\n",
       "      <td>northwest</td>\n",
       "      <td>10600.54830</td>\n",
       "    </tr>\n",
       "    <tr>\n",
       "      <th>1334</th>\n",
       "      <td>18</td>\n",
       "      <td>female</td>\n",
       "      <td>31.920</td>\n",
       "      <td>0</td>\n",
       "      <td>no</td>\n",
       "      <td>northeast</td>\n",
       "      <td>2205.98080</td>\n",
       "    </tr>\n",
       "    <tr>\n",
       "      <th>1335</th>\n",
       "      <td>18</td>\n",
       "      <td>female</td>\n",
       "      <td>36.850</td>\n",
       "      <td>0</td>\n",
       "      <td>no</td>\n",
       "      <td>southeast</td>\n",
       "      <td>1629.83350</td>\n",
       "    </tr>\n",
       "    <tr>\n",
       "      <th>1336</th>\n",
       "      <td>21</td>\n",
       "      <td>female</td>\n",
       "      <td>25.800</td>\n",
       "      <td>0</td>\n",
       "      <td>no</td>\n",
       "      <td>southwest</td>\n",
       "      <td>2007.94500</td>\n",
       "    </tr>\n",
       "    <tr>\n",
       "      <th>1337</th>\n",
       "      <td>61</td>\n",
       "      <td>female</td>\n",
       "      <td>29.070</td>\n",
       "      <td>0</td>\n",
       "      <td>yes</td>\n",
       "      <td>northwest</td>\n",
       "      <td>29141.36030</td>\n",
       "    </tr>\n",
       "  </tbody>\n",
       "</table>\n",
       "<p>1338 rows × 7 columns</p>\n",
       "</div>"
      ],
      "text/plain": [
       "      age     sex     bmi  children smoker     region      charges\n",
       "0      19  female  27.900         0    yes  southwest  16884.92400\n",
       "1      18    male  33.770         1     no  southeast   1725.55230\n",
       "2      28    male  33.000         3     no  southeast   4449.46200\n",
       "3      33    male  22.705         0     no  northwest  21984.47061\n",
       "4      32    male  28.880         0     no  northwest   3866.85520\n",
       "...   ...     ...     ...       ...    ...        ...          ...\n",
       "1333   50    male  30.970         3     no  northwest  10600.54830\n",
       "1334   18  female  31.920         0     no  northeast   2205.98080\n",
       "1335   18  female  36.850         0     no  southeast   1629.83350\n",
       "1336   21  female  25.800         0     no  southwest   2007.94500\n",
       "1337   61  female  29.070         0    yes  northwest  29141.36030\n",
       "\n",
       "[1338 rows x 7 columns]"
      ]
     },
     "execution_count": 7,
     "metadata": {},
     "output_type": "execute_result"
    }
   ],
   "source": [
    "%matplotlib inline\n",
    "\n",
    "from pathlib import Path\n",
    "import pandas as pd\n",
    "import numpy as np\n",
    "import matplotlib.pyplot as ppl\n",
    "import pprint as pp\n",
    "from sklearn.linear_model import LinearRegression\n",
    "\n",
    "DATADIR = Path().resolve() / '../data'\n",
    "PATIENTSDF = DATADIR / 'insurance.csv'\n",
    "\n",
    "# lea el dataset de pacientes \n",
    "patients_df = pd.read_csv(PATIENTSDF)\n",
    "patients_df"
   ]
  },
  {
   "cell_type": "markdown",
   "metadata": {},
   "source": [
    "* Identificamos variables sobre las que haremos predicción"
   ]
  },
  {
   "cell_type": "code",
   "execution_count": 2,
   "metadata": {},
   "outputs": [
    {
     "name": "stdout",
     "output_type": "stream",
     "text": [
      "('Predictors types-> \\n'\n",
      " 'age           int64\\n'\n",
      " 'sex          object\\n'\n",
      " 'bmi         float64\\n'\n",
      " 'children      int64\\n'\n",
      " 'smoker       object\\n'\n",
      " 'region       object\\n'\n",
      " 'charges     float64\\n'\n",
      " 'dtype: object')\n"
     ]
    }
   ],
   "source": [
    "# Obtenemos las varaibles, features, predictores, o caracteristicas del dataset\n",
    "predictors = patients_df.columns\n",
    "outcome = 'charges' # queremos que charges sea la variable objetivo o target.\n",
    "# Identificamos el tipo de dato de cada columna\n",
    "predictors_type = patients_df.dtypes\n",
    "pp.PrettyPrinter( indent = 4 )\n",
    "pp.pprint(f\"Predictors types-> \\n{predictors_type}\")"
   ]
  },
  {
   "cell_type": "markdown",
   "metadata": {},
   "source": [
    "* Procedo a graficar la distribución de los valores en cada columna"
   ]
  },
  {
   "cell_type": "code",
   "execution_count": 6,
   "metadata": {},
   "outputs": [
    {
     "data": {
      "text/plain": [
       "array([[<Axes: title={'center': 'age'}>, <Axes: title={'center': 'bmi'}>],\n",
       "       [<Axes: title={'center': 'children'}>,\n",
       "        <Axes: title={'center': 'charges'}>]], dtype=object)"
      ]
     },
     "execution_count": 6,
     "metadata": {},
     "output_type": "execute_result"
    },
    {
     "data": {
      "image/png": "[encoded data removed]",
      "text/plain": [
       "<Figure size 640x480 with 4 Axes>"
      ]
     },
     "metadata": {},
     "output_type": "display_data"
    }
   ],
   "source": [
    "# hacemos uso del método his() de pandas, que nos permita observar la distribución de cada variable\n",
    "patients_df[predictors].hist()\n",
    "\n",
    "for column in patients_df:\n",
    "    ppl.subplot()"
   ]
  }
 ],
 "metadata": {
  "kernelspec": {
   "display_name": ".venv",
   "language": "python",
   "name": "python3"
  },
  "language_info": {
   "codemirror_mode": {
    "name": "ipython",
    "version": 3
   },
   "file_extension": ".py",
   "mimetype": "text/x-python",
   "name": "python",
   "nbconvert_exporter": "python",
   "pygments_lexer": "ipython3",
   "version": "3.10.12"
  }
 },
 "nbformat": 4,
 "nbformat_minor": 2
}
