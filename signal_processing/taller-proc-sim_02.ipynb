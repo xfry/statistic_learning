{
 "cells": [
  {
   "cell_type": "markdown",
   "metadata": {},
   "source": [
    "## Taller - Lectura ExtraCellar e Intracelular\n",
    "* Abra el archivo IntraExtracelular.mat\n",
    "* Aquí encuentra las variables variable1 y variable2. La primera corresponde a una matriz de 2 canales diferentes\n",
    "(electrodos intracelular y extracelular, respectivamente) y 221077 muestras de tiempo. La segunda, es una\n",
    "estructura con información del archivo, de donde puede extraer la frecuencia de muestreo Fs.\n",
    "* Grafique en un figure las señales intracelular y extracelular (2 subplots). Utilice el vector de tiempo, títulos y\n",
    "linkaxes.\n",
    "* Para la señal intracelular, calcule un umbral estadístico y aplíquelo utilizando la función findpeaks() de Matlab\n",
    "o Python. Revise la ayuda de esta función, para encontrar el parámetro que permite definir un valor umbral.\n",
    "* La salida de findpeaks, corresponde a un vector con la localización de los picos (muestras). Con esta\n",
    "información, cree un vector de ceros de la misma longitud de la señal (zeros ()) y asigne un 1 (o -1) en las\n",
    "posiciones de localización de los picos.\n",
    "* Sobreponga en color rojo, la localización de los picos sobre la señal intra. Para esto utilice la función hold on;\n",
    "(para sobreponer sobre un plot otro plot).\n",
    "* Para la señal extracelular, antes de detectar los picos, es necesario filtrar la señal. Para esto:\n",
    "    - Calcule los coeficientes del filtro, por medio de la interfaz filterDesigner o pyfda. Compare diferentes\n",
    "tipos de filtros y exporte los coeficientes al Workspace, para usarlos con la función respectiva.\n",
    "    - Opcional: si desea calcular los coeficientes por medio de código, utilice el código de la diapo 16 con\n",
    "frecuencias que considere adecuada. Use fvtool para ver la respuesta en frecuencia del filtro y compararlos.\n",
    "    - Utilice la función filtfilt , que hace automáticamente la corrección del corrimiento de fase.\n",
    "    - Una vez filtrada, encuentre el umbral estadístico y grafique la señal binaria sobrepuesta a la señal extra.\n",
    "Nota: Diseñe una estrategia para tratar los picos de la señal extracelular, ya que son negativos."
   ]
  },
  {
   "cell_type": "code",
   "execution_count": 1,
   "metadata": {},
   "outputs": [
    {
     "ename": "OSError",
     "evalue": "Reader needs file name or open file-like object",
     "output_type": "error",
     "traceback": [
      "\u001b[0;31m---------------------------------------------------------------------------\u001b[0m",
      "\u001b[0;31mFileNotFoundError\u001b[0m                         Traceback (most recent call last)",
      "File \u001b[0;32m/home/xfry/statistic_learning/.venv/lib/python3.10/site-packages/scipy/io/matlab/_mio.py:39\u001b[0m, in \u001b[0;36m_open_file\u001b[0;34m(file_like, appendmat, mode)\u001b[0m\n\u001b[1;32m     38\u001b[0m \u001b[38;5;28;01mtry\u001b[39;00m:\n\u001b[0;32m---> 39\u001b[0m     \u001b[38;5;28;01mreturn\u001b[39;00m \u001b[38;5;28;43mopen\u001b[39;49m\u001b[43m(\u001b[49m\u001b[43mfile_like\u001b[49m\u001b[43m,\u001b[49m\u001b[43m \u001b[49m\u001b[43mmode\u001b[49m\u001b[43m)\u001b[49m, \u001b[38;5;28;01mTrue\u001b[39;00m\n\u001b[1;32m     40\u001b[0m \u001b[38;5;28;01mexcept\u001b[39;00m \u001b[38;5;167;01mOSError\u001b[39;00m \u001b[38;5;28;01mas\u001b[39;00m e:\n\u001b[1;32m     41\u001b[0m     \u001b[38;5;66;03m# Probably \"not found\"\u001b[39;00m\n",
      "\u001b[0;31mFileNotFoundError\u001b[0m: [Errno 2] No such file or directory: '/home/xfry/statistic_learning/signal_processing/../../data/IntraExtracelular.mat'",
      "\nThe above exception was the direct cause of the following exception:\n",
      "\u001b[0;31mOSError\u001b[0m                                   Traceback (most recent call last)",
      "Cell \u001b[0;32mIn[1], line 17\u001b[0m\n\u001b[1;32m     14\u001b[0m INTRAEXTRACEL \u001b[38;5;241m=\u001b[39m DATA \u001b[38;5;241m/\u001b[39m \u001b[38;5;124m'\u001b[39m\u001b[38;5;124mIntraExtracelular.mat\u001b[39m\u001b[38;5;124m'\u001b[39m\n\u001b[1;32m     16\u001b[0m \u001b[38;5;66;03m#Cargando el dataset\u001b[39;00m\n\u001b[0;32m---> 17\u001b[0m mat_data \u001b[38;5;241m=\u001b[39m \u001b[43msci\u001b[49m\u001b[38;5;241;43m.\u001b[39;49m\u001b[43mloadmat\u001b[49m\u001b[43m(\u001b[49m\u001b[43mINTRAEXTRACEL\u001b[49m\u001b[43m)\u001b[49m\n\u001b[1;32m     19\u001b[0m \u001b[38;5;66;03m# Cargar los datos de variable1 y variable2\u001b[39;00m\n\u001b[1;32m     20\u001b[0m va1 \u001b[38;5;241m=\u001b[39m mat_data[\u001b[38;5;124m\"\u001b[39m\u001b[38;5;124mvariable1\u001b[39m\u001b[38;5;124m\"\u001b[39m]\n",
      "File \u001b[0;32m/home/xfry/statistic_learning/.venv/lib/python3.10/site-packages/scipy/io/matlab/_mio.py:225\u001b[0m, in \u001b[0;36mloadmat\u001b[0;34m(file_name, mdict, appendmat, **kwargs)\u001b[0m\n\u001b[1;32m     88\u001b[0m \u001b[38;5;250m\u001b[39m\u001b[38;5;124;03m\"\"\"\u001b[39;00m\n\u001b[1;32m     89\u001b[0m \u001b[38;5;124;03mLoad MATLAB file.\u001b[39;00m\n\u001b[1;32m     90\u001b[0m \n\u001b[0;32m   (...)\u001b[0m\n\u001b[1;32m    222\u001b[0m \u001b[38;5;124;03m    3.14159265+3.14159265j])\u001b[39;00m\n\u001b[1;32m    223\u001b[0m \u001b[38;5;124;03m\"\"\"\u001b[39;00m\n\u001b[1;32m    224\u001b[0m variable_names \u001b[38;5;241m=\u001b[39m kwargs\u001b[38;5;241m.\u001b[39mpop(\u001b[38;5;124m'\u001b[39m\u001b[38;5;124mvariable_names\u001b[39m\u001b[38;5;124m'\u001b[39m, \u001b[38;5;28;01mNone\u001b[39;00m)\n\u001b[0;32m--> 225\u001b[0m \u001b[38;5;28;01mwith\u001b[39;00m _open_file_context(file_name, appendmat) \u001b[38;5;28;01mas\u001b[39;00m f:\n\u001b[1;32m    226\u001b[0m     MR, _ \u001b[38;5;241m=\u001b[39m mat_reader_factory(f, \u001b[38;5;241m*\u001b[39m\u001b[38;5;241m*\u001b[39mkwargs)\n\u001b[1;32m    227\u001b[0m     matfile_dict \u001b[38;5;241m=\u001b[39m MR\u001b[38;5;241m.\u001b[39mget_variables(variable_names)\n",
      "File \u001b[0;32m/usr/lib/python3.10/contextlib.py:135\u001b[0m, in \u001b[0;36m_GeneratorContextManager.__enter__\u001b[0;34m(self)\u001b[0m\n\u001b[1;32m    133\u001b[0m \u001b[38;5;28;01mdel\u001b[39;00m \u001b[38;5;28mself\u001b[39m\u001b[38;5;241m.\u001b[39margs, \u001b[38;5;28mself\u001b[39m\u001b[38;5;241m.\u001b[39mkwds, \u001b[38;5;28mself\u001b[39m\u001b[38;5;241m.\u001b[39mfunc\n\u001b[1;32m    134\u001b[0m \u001b[38;5;28;01mtry\u001b[39;00m:\n\u001b[0;32m--> 135\u001b[0m     \u001b[38;5;28;01mreturn\u001b[39;00m \u001b[38;5;28;43mnext\u001b[39;49m\u001b[43m(\u001b[49m\u001b[38;5;28;43mself\u001b[39;49m\u001b[38;5;241;43m.\u001b[39;49m\u001b[43mgen\u001b[49m\u001b[43m)\u001b[49m\n\u001b[1;32m    136\u001b[0m \u001b[38;5;28;01mexcept\u001b[39;00m \u001b[38;5;167;01mStopIteration\u001b[39;00m:\n\u001b[1;32m    137\u001b[0m     \u001b[38;5;28;01mraise\u001b[39;00m \u001b[38;5;167;01mRuntimeError\u001b[39;00m(\u001b[38;5;124m\"\u001b[39m\u001b[38;5;124mgenerator didn\u001b[39m\u001b[38;5;124m'\u001b[39m\u001b[38;5;124mt yield\u001b[39m\u001b[38;5;124m\"\u001b[39m) \u001b[38;5;28;01mfrom\u001b[39;00m \u001b[38;5;28;01mNone\u001b[39;00m\n",
      "File \u001b[0;32m/home/xfry/statistic_learning/.venv/lib/python3.10/site-packages/scipy/io/matlab/_mio.py:17\u001b[0m, in \u001b[0;36m_open_file_context\u001b[0;34m(file_like, appendmat, mode)\u001b[0m\n\u001b[1;32m     15\u001b[0m \u001b[38;5;129m@contextmanager\u001b[39m\n\u001b[1;32m     16\u001b[0m \u001b[38;5;28;01mdef\u001b[39;00m \u001b[38;5;21m_open_file_context\u001b[39m(file_like, appendmat, mode\u001b[38;5;241m=\u001b[39m\u001b[38;5;124m'\u001b[39m\u001b[38;5;124mrb\u001b[39m\u001b[38;5;124m'\u001b[39m):\n\u001b[0;32m---> 17\u001b[0m     f, opened \u001b[38;5;241m=\u001b[39m \u001b[43m_open_file\u001b[49m\u001b[43m(\u001b[49m\u001b[43mfile_like\u001b[49m\u001b[43m,\u001b[49m\u001b[43m \u001b[49m\u001b[43mappendmat\u001b[49m\u001b[43m,\u001b[49m\u001b[43m \u001b[49m\u001b[43mmode\u001b[49m\u001b[43m)\u001b[49m\n\u001b[1;32m     18\u001b[0m     \u001b[38;5;28;01mtry\u001b[39;00m:\n\u001b[1;32m     19\u001b[0m         \u001b[38;5;28;01myield\u001b[39;00m f\n",
      "File \u001b[0;32m/home/xfry/statistic_learning/.venv/lib/python3.10/site-packages/scipy/io/matlab/_mio.py:47\u001b[0m, in \u001b[0;36m_open_file\u001b[0;34m(file_like, appendmat, mode)\u001b[0m\n\u001b[1;32m     45\u001b[0m     \u001b[38;5;28;01mreturn\u001b[39;00m \u001b[38;5;28mopen\u001b[39m(file_like, mode), \u001b[38;5;28;01mTrue\u001b[39;00m\n\u001b[1;32m     46\u001b[0m \u001b[38;5;28;01melse\u001b[39;00m:\n\u001b[0;32m---> 47\u001b[0m     \u001b[38;5;28;01mraise\u001b[39;00m \u001b[38;5;167;01mOSError\u001b[39;00m(\n\u001b[1;32m     48\u001b[0m         \u001b[38;5;124m'\u001b[39m\u001b[38;5;124mReader needs file name or open file-like object\u001b[39m\u001b[38;5;124m'\u001b[39m\n\u001b[1;32m     49\u001b[0m     ) \u001b[38;5;28;01mfrom\u001b[39;00m \u001b[38;5;21;01me\u001b[39;00m\n",
      "\u001b[0;31mOSError\u001b[0m: Reader needs file name or open file-like object"
     ]
    }
   ],
   "source": [
    "# Made by Fredy E Mena Andrade\n",
    "# %matplotlib widget\n",
    "\n",
    "from pathlib import Path\n",
    "from scipy import io as sci\n",
    "from scipy import signal as sign\n",
    "import pprint as pp\n",
    "import matplotlib.pyplot as mpl\n",
    "import numpy as np\n",
    "\n",
    "mpl.ion()\n",
    "# definiendo una ruta para encontrar el Dataset local\n",
    "DATA = Path().resolve() / '../data'\n",
    "INTRAEXTRACEL = DATA / 'IntraExtracelular.mat'\n",
    "\n",
    "#Cargando el dataset\n",
    "mat_data = sci.loadmat(INTRAEXTRACEL)\n",
    "\n",
    "# Cargar los datos de variable1 y variable2\n",
    "va1 = mat_data[\"variable1\"]\n",
    "va2 = mat_data[\"variable2\"]\n",
    "\n",
    "# Cargando los campos existentes en variable2\n",
    "info = va2['Info'][0, 0]  # Access 'Info' field\n",
    "samples = va2['Samples'][0, 0]  # Access 'Samples' field\n",
    "sampling_rate = va2['SamplingRateHz'][0, 0]  # Access 'SamplingRateHz' field\n",
    "sampling_interval = va2['SamplingIntervalSec'][0, 0]  # Access 'SamplingIntervalSec' field\n",
    "gain = va2['Gain'][0, 0]  # Access 'Gain' field\n",
    "base = va2['Base'][0, 0]  # Access 'Base' field\n",
    "units = va2['Units'][0, 0]  # Access 'Units' field\n",
    "note = va2['Note'][0, 0]  # Access 'Note' field\n",
    "\n",
    "\n",
    "#Lineas para observar estructura del dataset en la terminal.\n",
    "pp.PrettyPrinter( indent = 4)\n",
    "#pp.pprint(f\"mat_data -> {mat_data}\")\n",
    "pp.pprint(f\"var1 -> {va1}\")\n",
    "pp.pprint(f\"var2 -> {va2}\")\n",
    "\n",
    "# Crear la variable de potenciales Intraceclulares, y aplicar un filtro pasa banda\n",
    "va1_intraCel_row = ( va1[0, :] )\n",
    "va1_extraCel_row = ( va1[1, :] )\n",
    "\n",
    "# Crear la varaible de aplitud de los potenciales Intracelulares\n",
    "intra_amplitude = np.max(va1_intraCel_row) - np.min(va1_intraCel_row)\n",
    "extra_amplitude = np.max(va1_extraCel_row) - np.min(va1_extraCel_row)\n",
    "\n",
    "# duracion de la señal en segundos:\n",
    "total_duration =  samples[0][0] / sampling_rate\n",
    "# Crear el vector de tiempo:\n",
    "time_vec = np.linspace(0, total_duration, samples[0][0]).reshape(-1)\n",
    "\n",
    "pp.pprint(f\"Inter row1 -> {va1_intraCel_row}\")\n",
    "pp.pprint(f\"Exter row1 -> {va1_extraCel_row}\")\n",
    "pp.pprint(f\"Inter amplitude -> {intra_amplitude}\")\n",
    "pp.pprint(f\"Exter amplitude -> {extra_amplitude}\")\n",
    "pp.pprint(f\"Data Hz -> {sampling_rate}\")\n",
    "\n"
   ]
  },
  {
   "cell_type": "markdown",
   "metadata": {},
   "source": [
    "### Aplicando Filtros Pasabanda a Intracelular and Extracelular rows "
   ]
  },
  {
   "cell_type": "code",
   "execution_count": null,
   "metadata": {},
   "outputs": [],
   "source": [
    "# Definimos Propiedades del filtro Pasabanda\n",
    "low_cut = 300.0\n",
    "hight_cut = 2700.0\n",
    "nyquist = 0.5 * sampling_rate\n",
    "# Creamos las bandas del filtro\n",
    "low_band = low_cut / nyquist\n",
    "hight_band = hight_cut / nyquist\n",
    "order = 4\n",
    "\n",
    "# el metodo butter nos permite diseñar el filtro que queremos,\n",
    "# el parametro fs se usa solo si los umbrales del filtro no han sido normalizados\n",
    "b, a = sign.butter( order, [low_band, hight_band], btype=\"bandpass\")\n",
    "\n",
    "# Aplicar el filtro a los datos Intracelulares\n",
    "intra_filtered = sign.filtfilt( b, a, va1_intraCel_row )\n",
    "# Aplicar el filtro a los datos Extracelulares\n",
    "extra_filtered = sign.filtfilt( b, a, va1_extraCel_row ) * -1\n",
    "\n",
    "pp.pprint( f\"Intra Cel Filtered { intra_filtered }\" )\n",
    "pp.pprint( f\"Extra Cel Filtered { extra_filtered } \" )"
   ]
  },
  {
   "cell_type": "markdown",
   "metadata": {},
   "source": [
    "### Graficando Potenciales\n",
    "Procedo a preparar información importante para la gráfica:\n",
    "* Calcular un umbral estadistico para los picos de Potenciales Intracelular\n"
   ]
  },
  {
   "cell_type": "code",
   "execution_count": null,
   "metadata": {},
   "outputs": [],
   "source": [
    "# Creo un factor k para el Umbral\n",
    "k = 5\n",
    "\n",
    "# Calculo la mediana de potenciales de activación intracelulares \n",
    "inter_median = np.median(intra_filtered)\n",
    "inter_deviation = np.std(intra_filtered)\n",
    "# Calculo el umbral superior e inferior de los Potenciales Intracel\n",
    "intr_upper_threshold  = ( abs(inter_median + k * inter_deviation) )\n",
    "intr_lower_threshold = ( inter_median - k * inter_deviation )\n",
    "pp.pprint(f\"Intr Upper Threshold -> {intr_upper_threshold}\")\n",
    "pp.pprint(f\"Intr Lower Threshold -> {intr_lower_threshold}\")\n"
   ]
  },
  {
   "cell_type": "markdown",
   "metadata": {},
   "source": [
    "*  Calcular el umbral estadistico para los picos de Potenciales Extracelulares"
   ]
  },
  {
   "cell_type": "code",
   "execution_count": null,
   "metadata": {},
   "outputs": [],
   "source": [
    "# Calculo la mediana de potenciales de activación intracelulares \n",
    "ext_median = np.median(extra_filtered)\n",
    "ext_deviation = np.std(extra_filtered)\n",
    "# Calculo el umbral superior e inferior de los Potenciales Intracel\n",
    "ext_upper_threshold  = ( abs(ext_median + k * ext_deviation) )\n",
    "ext_lower_threshold = ( ext_median - k * ext_deviation )\n",
    "pp.pprint( f\"Ext Upper Threshold -> {ext_upper_threshold}\" )\n",
    "pp.pprint( f\"Ext Lower Threshold -> {ext_lower_threshold}\" )"
   ]
  },
  {
   "cell_type": "markdown",
   "metadata": {},
   "source": [
    "* Encontrar los picos usando los umbrales Intracelulares"
   ]
  },
  {
   "cell_type": "code",
   "execution_count": null,
   "metadata": {},
   "outputs": [],
   "source": [
    "# Cómo funciona el humbral en find_peaks:\n",
    "# \n",
    "low_peak_offset = 12\n",
    "intr_peaks, tup1    = sign.find_peaks( intra_filtered, height=intr_upper_threshold-low_peak_offset )\n",
    "ext_peaks, tup2     = sign.find_peaks( extra_filtered, height=ext_upper_threshold-low_peak_offset )\n",
    "\n",
    "# Crear vector de Zeros que contendrá picos internos:\n",
    "intr_zero_vector = np.zeros_like(intra_filtered, dtype=int)\n",
    "# Crear vector de Zeros que contendrá picos externos:\n",
    "ext_zero_vector = np.zeros_like(extra_filtered, dtype=int)\n",
    "\n",
    "pp.pprint( f\"Intra Celular Peaks: -> { str(len(intr_peaks)) }\" )\n",
    "pp.pprint( f\"Extra Celular Peaks: -> { str(len(ext_peaks*-1)) }\" )\n",
    "#pp.pprint( f\"Peaks: -> {intr_peaks}\")\n",
    "#pp.pprint( f\"Zeros: -> {zero_vector[148]}\")"
   ]
  },
  {
   "cell_type": "markdown",
   "metadata": {},
   "source": [
    "* crear metodo que generará gráficas con el mismo diseño"
   ]
  },
  {
   "cell_type": "code",
   "execution_count": null,
   "metadata": {},
   "outputs": [],
   "source": [
    "#Graficando los datos de la row\n",
    "def plotCelPotential(title:str, va_row_data:list, zero_vec:list, xlabel:str, ylabel:str, peaks:list):\n",
    "    fig, ax = mpl.subplots(1, 1, figsize=(18, 4))\n",
    "    ax.set_title(title)\n",
    "    ax.plot(time_vec, va_row_data, label=\"Signal\")\n",
    "    ax.plot(time_vec[peaks], va_row_data[peaks], \"x\", label=\"Peaks\", color=\"magenta\")\n",
    "    if ( zero_vec is not None ):\n",
    "        zero_vec[peaks] = va_row_data[peaks]\n",
    "        ax.plot(time_vec, zero_vec, label=\"zero\", color=\"red\")\n",
    "    ax.set_xlabel(xlabel, \n",
    "            loc=\"center\")\n",
    "    ax.set_ylabel(ylabel, \n",
    "            loc=\"center\")\n",
    "    ax.grid(visible=True, which=\"both\", axis=\"both\" )\n",
    "    ax.legend()\n",
    "    mpl.tight_layout()\n",
    "    mpl.show()"
   ]
  },
  {
   "cell_type": "markdown",
   "metadata": {},
   "source": [
    "* Grafico canal de electrodos Intracelular"
   ]
  },
  {
   "cell_type": "code",
   "execution_count": null,
   "metadata": {},
   "outputs": [],
   "source": [
    "\n",
    "# Plot IntraCelular data without filtering: Esta gráfica original no era necesario filtrarla porque está entendible.\n",
    "plotCelPotential(\"Potencial Intracelular\", va1_intraCel_row, None, \"T (seconds)\", \"Potencial De Activación\", intr_peaks)\n",
    "# Plot Intracelular after filtering:\n",
    "# plotCelPotential(\"Potencial Intracelular\", intra_filtered, \"T (seconds)\", \"Potencial De Activación\", intr_peaks)\n",
    "#el potencial de membrana en reposo es de -60 mV"
   ]
  },
  {
   "cell_type": "markdown",
   "metadata": {},
   "source": [
    "* Grafico canal de electrodos Extracelular"
   ]
  },
  {
   "cell_type": "code",
   "execution_count": null,
   "metadata": {},
   "outputs": [],
   "source": [
    "# Plot Extrernal Celular sin filtro:\n",
    "plotCelPotential(\"Potencial ExtraCelular (Antes)\", va1_extraCel_row, ext_zero_vector, \"T (seconds)\", \"Potencial De Activación\", ext_peaks)\n",
    "# Regresamos el sentido de la señal a su estado original:\n",
    "extra_filtered = extra_filtered * -1\n",
    "# Plot External Celulalar con filtro pasabanda\n",
    "plotCelPotential(\"Potencial ExtraCelular (Filtered)\", extra_filtered, ext_zero_vector, \"T (seconds)\", \"Potencial De Activación\", ext_peaks)\n",
    "# El Umbral estadistico no es de pico negativo y por esta razón el arreglo de los picos resultantes debe multiplicarse por -1"
   ]
  },
  {
   "cell_type": "markdown",
   "metadata": {},
   "source": [
    "### Creando gráficos de dispersión y Kmeans "
   ]
  },
  {
   "cell_type": "code",
   "execution_count": null,
   "metadata": {},
   "outputs": [],
   "source": [
    "#Graficando los datos de la row\n",
    "def plotScatter(title:str, va_row_data:list, xlabel:str, ylabel:str, peaks:list):\n",
    "    fig, ax = mpl.subplots(1, 1, figsize=(18, 4))\n",
    "    ax.set_title(title)\n",
    "    ax.scatter(time_vec[peaks], va_row_data[peaks], label=\"Peaks\", color=\"magenta\", marker=\"o\")\n",
    "    ax.set_xlabel(xlabel, \n",
    "            loc=\"center\")\n",
    "    ax.set_ylabel(ylabel, \n",
    "            loc=\"center\")\n",
    "    ax.grid(visible=True, which=\"both\", axis=\"both\" )\n",
    "    ax.legend()\n",
    "    mpl.tight_layout()\n",
    "    mpl.show()"
   ]
  },
  {
   "cell_type": "markdown",
   "metadata": {},
   "source": [
    "* Draw scatter plot for Intra Celular Data"
   ]
  },
  {
   "cell_type": "code",
   "execution_count": null,
   "metadata": {},
   "outputs": [],
   "source": [
    "plotScatter(\"Scatter Intra Celular\", intra_filtered, \"T (seconds)\", \"Potencial De Activación\", intr_peaks)"
   ]
  },
  {
   "cell_type": "code",
   "execution_count": null,
   "metadata": {},
   "outputs": [],
   "source": [
    "plotScatter(\"Scatter Extra Celular \", extra_filtered, \"T (seconds)\", \"Potencial De Activación\", ext_peaks)"
   ]
  },
  {
   "cell_type": "markdown",
   "metadata": {},
   "source": [
    "### Construyendo Matrix de caracteristica\n"
   ]
  },
  {
   "cell_type": "code",
   "execution_count": null,
   "metadata": {},
   "outputs": [],
   "source": []
  }
 ],
 "metadata": {
  "kernelspec": {
   "display_name": ".venv",
   "language": "python",
   "name": "python3"
  },
  "language_info": {
   "codemirror_mode": {
    "name": "ipython",
    "version": 3
   },
   "file_extension": ".py",
   "mimetype": "text/x-python",
   "name": "python",
   "nbconvert_exporter": "python",
   "pygments_lexer": "ipython3",
   "version": "3.10.12"
  }
 },
 "nbformat": 4,
 "nbformat_minor": 2
}
